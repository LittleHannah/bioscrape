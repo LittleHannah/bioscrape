{
 "cells": [
  {
   "cell_type": "markdown",
   "metadata": {},
   "source": [
    "# Loglikelihood Functions (Flow data)\n",
    "Bioscrape comes with a number of built in log-likelihood functions for deterministic or stochastic parameter inference. These functions are detailed in the following notebook. First, a simple model is made to test the functions:\n",
    "\n",
    "$\\emptyset \\xrightarrow[]{k_1} X \\; \\; \\; \\; X \\xrightarrow[]{d_1} \\emptyset$\n",
    "\n",
    "For a list of time samples, a set of N distributions for each time point is generated from the model using stochastic simulations, from either the same or different initial conditions. Gaussian noise is then added to all the samples to create an artificial data set. Then, we run the stochastic states likelihood computations in bioscrape inference package. "
   ]
  },
  {
   "cell_type": "code",
   "execution_count": 1,
   "metadata": {},
   "outputs": [
    {
     "data": {
      "text/plain": [
       "<Figure size 640x480 with 1 Axes>"
      ]
     },
     "metadata": {},
     "output_type": "display_data"
    },
    {
     "data": {
      "text/plain": [
       "<Figure size 640x480 with 1 Axes>"
      ]
     },
     "metadata": {},
     "output_type": "display_data"
    },
    {
     "data": {
      "text/plain": [
       "<Figure size 640x480 with 1 Axes>"
      ]
     },
     "metadata": {},
     "output_type": "display_data"
    },
    {
     "data": {
      "text/plain": [
       "<Figure size 640x480 with 1 Axes>"
      ]
     },
     "metadata": {},
     "output_type": "display_data"
    },
    {
     "data": {
      "text/plain": [
       "<Figure size 640x480 with 1 Axes>"
      ]
     },
     "metadata": {},
     "output_type": "display_data"
    },
    {
     "data": {
      "text/plain": [
       "<Figure size 640x480 with 1 Axes>"
      ]
     },
     "metadata": {},
     "output_type": "display_data"
    },
    {
     "data": {
      "text/plain": [
       "<Figure size 640x480 with 1 Axes>"
      ]
     },
     "metadata": {},
     "output_type": "display_data"
    },
    {
     "data": {
      "text/plain": [
       "<Figure size 640x480 with 1 Axes>"
      ]
     },
     "metadata": {},
     "output_type": "display_data"
    },
    {
     "data": {
      "text/plain": [
       "<Figure size 640x480 with 1 Axes>"
      ]
     },
     "metadata": {},
     "output_type": "display_data"
    },
    {
     "data": {
      "text/plain": [
       "<Figure size 640x480 with 1 Axes>"
      ]
     },
     "metadata": {},
     "output_type": "display_data"
    },
    {
     "data": {
      "text/plain": [
       "<Figure size 640x480 with 1 Axes>"
      ]
     },
     "metadata": {},
     "output_type": "display_data"
    },
    {
     "data": {
      "text/plain": [
       "<Figure size 640x480 with 1 Axes>"
      ]
     },
     "metadata": {},
     "output_type": "display_data"
    },
    {
     "data": {
      "text/plain": [
       "<Figure size 640x480 with 1 Axes>"
      ]
     },
     "metadata": {},
     "output_type": "display_data"
    },
    {
     "data": {
      "text/plain": [
       "<Figure size 640x480 with 1 Axes>"
      ]
     },
     "metadata": {},
     "output_type": "display_data"
    },
    {
     "data": {
      "text/plain": [
       "<Figure size 640x480 with 1 Axes>"
      ]
     },
     "metadata": {},
     "output_type": "display_data"
    },
    {
     "data": {
      "text/plain": [
       "<Figure size 640x480 with 1 Axes>"
      ]
     },
     "metadata": {},
     "output_type": "display_data"
    },
    {
     "data": {
      "text/plain": [
       "<Figure size 640x480 with 1 Axes>"
      ]
     },
     "metadata": {},
     "output_type": "display_data"
    },
    {
     "data": {
      "text/plain": [
       "<Figure size 640x480 with 1 Axes>"
      ]
     },
     "metadata": {},
     "output_type": "display_data"
    },
    {
     "data": {
      "text/plain": [
       "<Figure size 640x480 with 1 Axes>"
      ]
     },
     "metadata": {},
     "output_type": "display_data"
    },
    {
     "data": {
      "text/plain": [
       "<Figure size 640x480 with 1 Axes>"
      ]
     },
     "metadata": {},
     "output_type": "display_data"
    },
    {
     "data": {
      "text/plain": [
       "<Figure size 640x480 with 1 Axes>"
      ]
     },
     "metadata": {},
     "output_type": "display_data"
    },
    {
     "data": {
      "text/plain": [
       "<Figure size 640x480 with 1 Axes>"
      ]
     },
     "metadata": {},
     "output_type": "display_data"
    },
    {
     "data": {
      "text/plain": [
       "<Figure size 640x480 with 1 Axes>"
      ]
     },
     "metadata": {},
     "output_type": "display_data"
    },
    {
     "data": {
      "text/plain": [
       "<Figure size 640x480 with 1 Axes>"
      ]
     },
     "metadata": {},
     "output_type": "display_data"
    },
    {
     "data": {
      "text/plain": [
       "<Figure size 640x480 with 1 Axes>"
      ]
     },
     "metadata": {},
     "output_type": "display_data"
    },
    {
     "data": {
      "text/plain": [
       "<Figure size 640x480 with 1 Axes>"
      ]
     },
     "metadata": {},
     "output_type": "display_data"
    },
    {
     "data": {
      "text/plain": [
       "<Figure size 640x480 with 1 Axes>"
      ]
     },
     "metadata": {},
     "output_type": "display_data"
    },
    {
     "data": {
      "text/plain": [
       "<Figure size 640x480 with 1 Axes>"
      ]
     },
     "metadata": {},
     "output_type": "display_data"
    },
    {
     "data": {
      "text/plain": [
       "<Figure size 640x480 with 1 Axes>"
      ]
     },
     "metadata": {},
     "output_type": "display_data"
    },
    {
     "data": {
      "text/plain": [
       "<Figure size 640x480 with 1 Axes>"
      ]
     },
     "metadata": {},
     "output_type": "display_data"
    },
    {
     "data": {
      "text/plain": [
       "<Figure size 640x480 with 1 Axes>"
      ]
     },
     "metadata": {},
     "output_type": "display_data"
    },
    {
     "data": {
      "text/plain": [
       "<Figure size 640x480 with 1 Axes>"
      ]
     },
     "metadata": {},
     "output_type": "display_data"
    },
    {
     "data": {
      "text/plain": [
       "<Figure size 640x480 with 1 Axes>"
      ]
     },
     "metadata": {},
     "output_type": "display_data"
    },
    {
     "data": {
      "text/plain": [
       "<Figure size 640x480 with 1 Axes>"
      ]
     },
     "metadata": {},
     "output_type": "display_data"
    },
    {
     "data": {
      "text/plain": [
       "<Figure size 640x480 with 1 Axes>"
      ]
     },
     "metadata": {},
     "output_type": "display_data"
    },
    {
     "data": {
      "text/plain": [
       "<Figure size 640x480 with 1 Axes>"
      ]
     },
     "metadata": {},
     "output_type": "display_data"
    },
    {
     "data": {
      "text/plain": [
       "<Figure size 640x480 with 1 Axes>"
      ]
     },
     "metadata": {},
     "output_type": "display_data"
    },
    {
     "data": {
      "text/plain": [
       "<Figure size 640x480 with 1 Axes>"
      ]
     },
     "metadata": {},
     "output_type": "display_data"
    },
    {
     "data": {
      "text/plain": [
       "<Figure size 640x480 with 1 Axes>"
      ]
     },
     "metadata": {},
     "output_type": "display_data"
    },
    {
     "data": {
      "text/plain": [
       "<Figure size 640x480 with 1 Axes>"
      ]
     },
     "metadata": {},
     "output_type": "display_data"
    }
   ],
   "source": [
    "import bioscrape as bs\n",
    "from bioscrape.types import Model\n",
    "from bioscrape.simulator import py_simulate_model\n",
    "import scipy.stats as stats\n",
    "import numpy as np\n",
    "import pylab as plt\n",
    "#Create a Model\n",
    "species = [\"X\"]\n",
    "reactions = [([\"X\"], [], \"massaction\", {\"k\":\"d1\"}), ([], [\"X\"], \"massaction\", {\"k\":\"k1\"})]\n",
    "k1 = 10.0\n",
    "d1 = .2\n",
    "params = [(\"k1\", k1), (\"d1\", d1)]\n",
    "initial_condition = {\"X\":0}\n",
    "M = Model(species = species, reactions = reactions, parameters = params, initial_condition_dict = initial_condition)\n",
    "M.py_initialize()\n",
    "\n",
    "N = 10 #Number of flow distributions taken\n",
    "time_samples = [2.0,5.0,10.0,20.0] #time samples at which data is taken\n",
    "nS = len(time_samples)\n",
    "noise_std = 0.05 #Standar deviation of the guassian noise added onto the measurements\n",
    "\n",
    "#Generate Distributions\n",
    "R = [] #Results as Pandas Dataframes\n",
    "Data = [] #Results will become a numpy array\n",
    "MultipleInitialConditions = True #Different initial conditions for each trajectory?\n",
    "N_simulations = 100\n",
    "meas = 1 # Number of measurements \n",
    "Data = np.zeros( (nS,N,N_simulations,meas))\n",
    "X0_list = [] #multiple initial conditions will be saved for inference\n",
    "for nS_i in range(nS):\n",
    "    t = time_samples[nS_i]\n",
    "    for n in range(N):\n",
    "        if MultipleInitialConditions:\n",
    "            initial_condition = {\"X\": np.random.randint(0, 100)}\n",
    "            X0_list.append(initial_condition)\n",
    "        M.set_species(initial_condition)\n",
    "        for i in range(N_simulations):\n",
    "            r = py_simulate_model(np.array([0,t]), Model = M, stochastic = True)\n",
    "            R.append(r[\"X\"][1])\n",
    "            noisy_data = r[\"X\"][1] + np.random.normal(loc = 0, scale = noise_std, size = 1)\n",
    "            Data[nS_i,n,i] = noisy_data\n",
    "        \n",
    "\n",
    "\n",
    "#Plot Results\n",
    "plt.figure()\n",
    "# Data = np.array(Data)\n",
    "# Data = np.reshape(Data, ( np.shape(Data)+ (meas,))) # To make sure Data has shape - nS X N X M (where M = len(measured_species))\n",
    "for i in range(nS):\n",
    "    for j in range(N):\n",
    "        n_bins = int(N_simulations/10)  \n",
    "        density = stats.gaussian_kde(Data[i,j,:,0])\n",
    "        n, x, _ = plt.hist(Data[i,j,:,0], bins = n_bins, histtype = u'step', density = True)  \n",
    "        plt.close()\n",
    "        plt.plot(x, density(x))\n",
    "        plt.title('At t = {0}'.format(time_samples[i]))\n",
    "        _ = plt.xlabel(\"X\")\n",
    "        _ = plt.ylabel(\"Distribution\")\n",
    "        plt.yticks(fontsize = 0)\n",
    "        plt.show()"
   ]
  },
  {
   "cell_type": "code",
   "execution_count": 2,
   "metadata": {},
   "outputs": [
    {
     "data": {
      "text/plain": [
       "(4, 10, 100, 1)"
      ]
     },
     "execution_count": 2,
     "metadata": {},
     "output_type": "execute_result"
    }
   ],
   "source": [
    "np.shape(Data)"
   ]
  },
  {
   "cell_type": "markdown",
   "metadata": {},
   "source": [
    "## Data Objects and Loglikelihood Objects for Trajectories\n",
    "Different kinds of data must be stored in specific kinds of data objects. In turn, each Log-likelihood object is designed to accept a single kind of data object.\n",
    "\n",
    "Refer to time-series data objects notebook for more information on DeterministicLikelihood and StochasticTrajectoriesLikelihood.\n",
    "\n",
    "### StochasticStates Constructor\n",
    "*  Time samples: The list of time points at which flow data is taken. Simulations will use the same time samples to generate distributions.\n",
    "*  Data: an nS X N x L X M array. nS : Length of time_samples array, i.e. the number of different time samples at which data is taken. N: number of samples at each time point. L: The length of flow data (that generates the distribution). M: number of species measured\n",
    "* measured_species: list of M species names corresponding to model species and measurements.\n",
    "* N: Number of samples.\n",
    "\n",
    "### StochasticStatesLikelihood Constructor\n",
    "* model: A Bioscrape Model\n",
    "* data: StochasticStates Data Object. If not passed in, can be added via .set_data(StochasticStates) method.\n",
    "#### Optional:\n",
    " * N_simulations: Number of simulations per sample. Defaults to 1.\n",
    " * norm_order: What L-norm to use. Defaults to 1.\n",
    " * moment_order: What order of moments to use for cost computation. (moment_order = 2 computes the mean and the 2nd order central moment. moment_order = 1 only computes the mean).\n",
    " * moment_weights : A list of weights that has the same length as the moment_order. Weights are used for cost computation as follows : W_1 * mean + W_2 * 2nd_moment ...and so on. \n",
    " * ModelCSimInterface. Generated from Model otherwise.\n",
    " * Simulator: How to simulate the model. Defaults to SSASimulator or DelaySSASimulator otherwise.\n",
    " \n",
    " #### Important : Either norm_order or moment_order option should be used for cost computations. Setting both will raise an error. \n",
    " "
   ]
  },
  {
   "cell_type": "code",
   "execution_count": 3,
   "metadata": {
    "scrolled": true
   },
   "outputs": [
    {
     "name": "stdout",
     "output_type": "stream",
     "text": [
      "LL_flow.N_simulations 100\n"
     ]
    }
   ],
   "source": [
    "#Create LogLikelihoodFunction\n",
    "from bioscrape.inference import StochasticStatesLikelihood as SSLL\n",
    "from bioscrape.inference import FlowData\n",
    "\n",
    "\n",
    "# Create a Data Objects\n",
    "DataFlow = FlowData(np.array(time_samples), Data, [\"X\"], N)\n",
    "\n",
    "#Ceate Likelihodo objects:\n",
    "N_simulations = 100 #Number of simulations per sample to compare to\n",
    "# norm_order = 1 #(integer) Which norm to use: 1-Norm, 2-norm, etc.\n",
    "moment_order = 2 # (integer) Upto what norm do you want to include for cost computation. \n",
    "\n",
    "#If there are multiple initial conditions in a data-set, should correspond to multiple initial conditions for inference.\n",
    "#Note len(X0_list) must be equal to the number of trajectories N\n",
    "if MultipleInitialConditions:    \n",
    "    # Either use norms or moments for cost computation\n",
    "#     LL_stoch = SSLL(model = M, init_state = X0_list, data = DataFlow, N_simulations = N_simulations, norm_order = norm_order)\n",
    "    LL_flow = SSLL(model = M, init_state = X0_list, data = DataFlow, N_simulations = N_simulations, moment_order = moment_order)\n",
    "\n",
    "    \n",
    "\n",
    "#Multiple samples with a single initial only require a single initial condition.\n",
    "else:\n",
    "    # Either use norms or moments for cost computation\n",
    "#     LL_stoch = SSLL(model = M, init_state = X0_list, data = DataFlow, N_simulations = N_simulations, norm_order = norm_order)\n",
    "    LL_flow = SSLL(model = M, init_state = initial_condition, data = DataFlow, N_simulations = N_simulations, moment_order = moment_order)\n",
    "print(\"LL_flow.N_simulations\", LL_flow.py_get_N_simulations())"
   ]
  },
  {
   "cell_type": "code",
   "execution_count": 4,
   "metadata": {},
   "outputs": [
    {
     "data": {
      "text/plain": [
       "array([ 2.,  5., 10., 20.])"
      ]
     },
     "execution_count": 4,
     "metadata": {},
     "output_type": "execute_result"
    }
   ],
   "source": [
    "DataFlow.py_get_timepoints()"
   ]
  },
  {
   "cell_type": "code",
   "execution_count": 5,
   "metadata": {},
   "outputs": [
    {
     "name": "stdout",
     "output_type": "stream",
     "text": [
      "di= 0...ki =0 1 2 3 4 5 6 7 8 9 10 11 12 13 14 di= 1...ki =0 1 2 3 4 5 6 7 8 9 10 11 12 13 14 di= 2...ki =0 1 2 3 4 5 6 7 8 9 10 11 12 13 14 di= 3...ki =0 1 2 3 4 5 6 7 8 9 10 11 12 13 14 di= 4...ki =0 1 2 3 4 5 6 7 8 9 10 11 12 13 14 di= 5...ki =0 1 2 3 4 5 6 7 8 9 10 11 12 13 14 di= 6...ki =0 1 2 3 4 5 6 7 8 9 10 11 12 13 14 di= 7...ki =0 1 2 3 4 5 6 7 8 9 10 11 12 13 14 di= 8...ki =0 1 2 3 4 5 6 7 8 9 10 11 12 13 14 di= 9...ki =0 1 2 3 4 5 6 7 8 9 10 11 12 13 14 di= 10...ki =0 1 2 3 4 5 6 7 8 9 10 11 12 13 14 di= 11...ki =0 1 2 3 4 5 6 7 8 9 10 11 12 13 14 di= 12...ki =0 1 2 3 4 5 6 7 8 9 10 11 12 13 14 di= 13...ki =0 1 2 3 4 5 6 7 8 9 10 11 12 13 14 di= 14...ki =0 1 2 3 4 5 6 7 8 9 10 11 12 13 14 "
     ]
    },
    {
     "name": "stderr",
     "output_type": "stream",
     "text": [
      "C:\\Users\\apand\\AppData\\Local\\Continuum\\anaconda3\\lib\\site-packages\\ipykernel_launcher.py:22: RuntimeWarning: divide by zero encountered in log\n"
     ]
    },
    {
     "data": {
      "image/png": "[encoded data removed]",
      "text/plain": [
       "<Figure size 1296x576 with 2 Axes>"
      ]
     },
     "metadata": {
      "needs_background": "light"
     },
     "output_type": "display_data"
    }
   ],
   "source": [
    "npoints = 15\n",
    "d_list = np.logspace(-12, 12, base = 2, num = npoints)\n",
    "k_list = np.logspace(-12, 12, base = 2, num = npoints)\n",
    "HM_flow = np.zeros((len(d_list), len(k_list)))\n",
    "\n",
    "for di in range(len(d_list)):\n",
    "    print(\"di=\", di, end = \"...ki =\")\n",
    "    for ki in range(len(k_list)):\n",
    "        print(ki, end = \" \")\n",
    "        LL_flow.set_init_params({\"d1\":d_list[di], \"k1\":k_list[ki]})\n",
    "        \n",
    "        vs = LL_flow.py_log_likelihood()\n",
    "        \n",
    "        HM_flow[di, ki] = -vs\n",
    "\n",
    "plt.figure(figsize = (18, 8))\n",
    "plt.title(\"Stochastic States Log Likelihood of a Non-Identifiable Manifold\\n k =\"+str(k1)+\" d=\"+str(d1))\n",
    "plt.xlabel(\"log k\")\n",
    "plt.xticks(range(npoints), [round(np.log(k), 1) for k in k_list])\n",
    "plt.ylabel(\"log d\")\n",
    "plt.yticks(range(npoints), [round(np.log(d), 1) for d in d_list])\n",
    "cb = plt.pcolor(np.log(HM_flow))\n",
    "_ = plt.colorbar(cb)\n"
   ]
  },
  {
   "cell_type": "code",
   "execution_count": 9,
   "metadata": {},
   "outputs": [
    {
     "data": {
      "text/plain": [
       "100"
      ]
     },
     "execution_count": 9,
     "metadata": {},
     "output_type": "execute_result"
    }
   ],
   "source": [
    "LL_flow.py_get_N_simulations()"
   ]
  },
  {
   "cell_type": "code",
   "execution_count": 19,
   "metadata": {},
   "outputs": [
    {
     "data": {
      "text/plain": [
       "(4, 10, 100, 1)"
      ]
     },
     "execution_count": 19,
     "metadata": {},
     "output_type": "execute_result"
    }
   ],
   "source": [
    "np.shape(Data)"
   ]
  },
  {
   "cell_type": "code",
   "execution_count": null,
   "metadata": {},
   "outputs": [],
   "source": []
  }
 ],
 "metadata": {
  "kernelspec": {
   "display_name": "Python 3",
   "language": "python",
   "name": "python3"
  },
  "language_info": {
   "codemirror_mode": {
    "name": "ipython",
    "version": 3
   },
   "file_extension": ".py",
   "mimetype": "text/x-python",
   "name": "python",
   "nbconvert_exporter": "python",
   "pygments_lexer": "ipython3",
   "version": "3.7.3"
  }
 },
 "nbformat": 4,
 "nbformat_minor": 2
}
